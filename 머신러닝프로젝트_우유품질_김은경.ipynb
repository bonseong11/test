{
  "nbformat": 4,
  "nbformat_minor": 0,
  "metadata": {
    "colab": {
      "provenance": []
    },
    "kernelspec": {
      "name": "python3",
      "display_name": "Python 3"
    },
    "language_info": {
      "name": "python"
    }
  },
  "cells": [
    {
      "cell_type": "code",
      "execution_count": 1,
      "metadata": {
        "id": "3mw_MJwh-nzi",
        "colab": {
          "base_uri": "https://localhost:8080/"
        },
        "outputId": "8b185067-ca7f-445e-b5c2-122b1a259b87"
      },
      "outputs": [
        {
          "output_type": "stream",
          "name": "stdout",
          "text": [
            "Selecting previously unselected package fonts-nanum-extra.\n",
            "(Reading database ... 122545 files and directories currently installed.)\n",
            "Preparing to unpack .../fonts-nanum-extra_20180306-3_all.deb ...\n",
            "Unpacking fonts-nanum-extra (20180306-3) ...\n",
            "Selecting previously unselected package fonts-nanum.\n",
            "Preparing to unpack .../fonts-nanum_20180306-3_all.deb ...\n",
            "Unpacking fonts-nanum (20180306-3) ...\n",
            "Selecting previously unselected package fonts-nanum-coding.\n",
            "Preparing to unpack .../fonts-nanum-coding_2.5-2_all.deb ...\n",
            "Unpacking fonts-nanum-coding (2.5-2) ...\n",
            "Selecting previously unselected package fonts-nanum-eco.\n",
            "Preparing to unpack .../fonts-nanum-eco_1.000-7_all.deb ...\n",
            "Unpacking fonts-nanum-eco (1.000-7) ...\n",
            "Setting up fonts-nanum-extra (20180306-3) ...\n",
            "Setting up fonts-nanum (20180306-3) ...\n",
            "Setting up fonts-nanum-coding (2.5-2) ...\n",
            "Setting up fonts-nanum-eco (1.000-7) ...\n",
            "Processing triggers for fontconfig (2.13.1-2ubuntu3) ...\n"
          ]
        }
      ],
      "source": [
        "import numpy as np\n",
        "import pandas as pd\n",
        "import matplotlib.pyplot as plt\n",
        "import seaborn as sns\n",
        "%matplotlib inline\n",
        "!apt-get update -qq\n",
        "!apt-get install fonts-nanum* -qq\n",
        "import matplotlib.pyplot as plt\n",
        "import matplotlib.font_manager as fm\n",
        "fe = fm.FontEntry(\n",
        "    fname = r'/usr/share/fonts/truetype/nanum/NanumGothic.ttf', name='NanumGothic')\n",
        "fm.fontManager.ttflist.insert(0, fe)\n",
        "plt.rcParams.update({'font.size':18, 'font.family':'NanumGothic'})\n"
      ]
    },
    {
      "cell_type": "code",
      "source": [
        "data=pd.read_csv('/content/drive/MyDrive/daejeon_1/milknew.csv')\n",
        "data.head()"
      ],
      "metadata": {
        "colab": {
          "base_uri": "https://localhost:8080/",
          "height": 206
        },
        "id": "ZK4pvjcR_dVp",
        "outputId": "1c32ba53-3e11-4366-f61e-266fddfdeb44"
      },
      "execution_count": 2,
      "outputs": [
        {
          "output_type": "execute_result",
          "data": {
            "text/plain": [
              "    pH  Temprature  Taste  Odor  Fat   Turbidity  Colour   Grade\n",
              "0  6.6          35      1     0     1          0     254    high\n",
              "1  6.6          36      0     1     0          1     253    high\n",
              "2  8.5          70      1     1     1          1     246     low\n",
              "3  9.5          34      1     1     0          1     255     low\n",
              "4  6.6          37      0     0     0          0     255  medium"
            ],
            "text/html": [
              "\n",
              "  <div id=\"df-4a1f5180-4bae-497e-b455-b78502863c60\">\n",
              "    <div class=\"colab-df-container\">\n",
              "      <div>\n",
              "<style scoped>\n",
              "    .dataframe tbody tr th:only-of-type {\n",
              "        vertical-align: middle;\n",
              "    }\n",
              "\n",
              "    .dataframe tbody tr th {\n",
              "        vertical-align: top;\n",
              "    }\n",
              "\n",
              "    .dataframe thead th {\n",
              "        text-align: right;\n",
              "    }\n",
              "</style>\n",
              "<table border=\"1\" class=\"dataframe\">\n",
              "  <thead>\n",
              "    <tr style=\"text-align: right;\">\n",
              "      <th></th>\n",
              "      <th>pH</th>\n",
              "      <th>Temprature</th>\n",
              "      <th>Taste</th>\n",
              "      <th>Odor</th>\n",
              "      <th>Fat</th>\n",
              "      <th>Turbidity</th>\n",
              "      <th>Colour</th>\n",
              "      <th>Grade</th>\n",
              "    </tr>\n",
              "  </thead>\n",
              "  <tbody>\n",
              "    <tr>\n",
              "      <th>0</th>\n",
              "      <td>6.6</td>\n",
              "      <td>35</td>\n",
              "      <td>1</td>\n",
              "      <td>0</td>\n",
              "      <td>1</td>\n",
              "      <td>0</td>\n",
              "      <td>254</td>\n",
              "      <td>high</td>\n",
              "    </tr>\n",
              "    <tr>\n",
              "      <th>1</th>\n",
              "      <td>6.6</td>\n",
              "      <td>36</td>\n",
              "      <td>0</td>\n",
              "      <td>1</td>\n",
              "      <td>0</td>\n",
              "      <td>1</td>\n",
              "      <td>253</td>\n",
              "      <td>high</td>\n",
              "    </tr>\n",
              "    <tr>\n",
              "      <th>2</th>\n",
              "      <td>8.5</td>\n",
              "      <td>70</td>\n",
              "      <td>1</td>\n",
              "      <td>1</td>\n",
              "      <td>1</td>\n",
              "      <td>1</td>\n",
              "      <td>246</td>\n",
              "      <td>low</td>\n",
              "    </tr>\n",
              "    <tr>\n",
              "      <th>3</th>\n",
              "      <td>9.5</td>\n",
              "      <td>34</td>\n",
              "      <td>1</td>\n",
              "      <td>1</td>\n",
              "      <td>0</td>\n",
              "      <td>1</td>\n",
              "      <td>255</td>\n",
              "      <td>low</td>\n",
              "    </tr>\n",
              "    <tr>\n",
              "      <th>4</th>\n",
              "      <td>6.6</td>\n",
              "      <td>37</td>\n",
              "      <td>0</td>\n",
              "      <td>0</td>\n",
              "      <td>0</td>\n",
              "      <td>0</td>\n",
              "      <td>255</td>\n",
              "      <td>medium</td>\n",
              "    </tr>\n",
              "  </tbody>\n",
              "</table>\n",
              "</div>\n",
              "      <button class=\"colab-df-convert\" onclick=\"convertToInteractive('df-4a1f5180-4bae-497e-b455-b78502863c60')\"\n",
              "              title=\"Convert this dataframe to an interactive table.\"\n",
              "              style=\"display:none;\">\n",
              "        \n",
              "  <svg xmlns=\"http://www.w3.org/2000/svg\" height=\"24px\"viewBox=\"0 0 24 24\"\n",
              "       width=\"24px\">\n",
              "    <path d=\"M0 0h24v24H0V0z\" fill=\"none\"/>\n",
              "    <path d=\"M18.56 5.44l.94 2.06.94-2.06 2.06-.94-2.06-.94-.94-2.06-.94 2.06-2.06.94zm-11 1L8.5 8.5l.94-2.06 2.06-.94-2.06-.94L8.5 2.5l-.94 2.06-2.06.94zm10 10l.94 2.06.94-2.06 2.06-.94-2.06-.94-.94-2.06-.94 2.06-2.06.94z\"/><path d=\"M17.41 7.96l-1.37-1.37c-.4-.4-.92-.59-1.43-.59-.52 0-1.04.2-1.43.59L10.3 9.45l-7.72 7.72c-.78.78-.78 2.05 0 2.83L4 21.41c.39.39.9.59 1.41.59.51 0 1.02-.2 1.41-.59l7.78-7.78 2.81-2.81c.8-.78.8-2.07 0-2.86zM5.41 20L4 18.59l7.72-7.72 1.47 1.35L5.41 20z\"/>\n",
              "  </svg>\n",
              "      </button>\n",
              "      \n",
              "  <style>\n",
              "    .colab-df-container {\n",
              "      display:flex;\n",
              "      flex-wrap:wrap;\n",
              "      gap: 12px;\n",
              "    }\n",
              "\n",
              "    .colab-df-convert {\n",
              "      background-color: #E8F0FE;\n",
              "      border: none;\n",
              "      border-radius: 50%;\n",
              "      cursor: pointer;\n",
              "      display: none;\n",
              "      fill: #1967D2;\n",
              "      height: 32px;\n",
              "      padding: 0 0 0 0;\n",
              "      width: 32px;\n",
              "    }\n",
              "\n",
              "    .colab-df-convert:hover {\n",
              "      background-color: #E2EBFA;\n",
              "      box-shadow: 0px 1px 2px rgba(60, 64, 67, 0.3), 0px 1px 3px 1px rgba(60, 64, 67, 0.15);\n",
              "      fill: #174EA6;\n",
              "    }\n",
              "\n",
              "    [theme=dark] .colab-df-convert {\n",
              "      background-color: #3B4455;\n",
              "      fill: #D2E3FC;\n",
              "    }\n",
              "\n",
              "    [theme=dark] .colab-df-convert:hover {\n",
              "      background-color: #434B5C;\n",
              "      box-shadow: 0px 1px 3px 1px rgba(0, 0, 0, 0.15);\n",
              "      filter: drop-shadow(0px 1px 2px rgba(0, 0, 0, 0.3));\n",
              "      fill: #FFFFFF;\n",
              "    }\n",
              "  </style>\n",
              "\n",
              "      <script>\n",
              "        const buttonEl =\n",
              "          document.querySelector('#df-4a1f5180-4bae-497e-b455-b78502863c60 button.colab-df-convert');\n",
              "        buttonEl.style.display =\n",
              "          google.colab.kernel.accessAllowed ? 'block' : 'none';\n",
              "\n",
              "        async function convertToInteractive(key) {\n",
              "          const element = document.querySelector('#df-4a1f5180-4bae-497e-b455-b78502863c60');\n",
              "          const dataTable =\n",
              "            await google.colab.kernel.invokeFunction('convertToInteractive',\n",
              "                                                     [key], {});\n",
              "          if (!dataTable) return;\n",
              "\n",
              "          const docLinkHtml = 'Like what you see? Visit the ' +\n",
              "            '<a target=\"_blank\" href=https://colab.research.google.com/notebooks/data_table.ipynb>data table notebook</a>'\n",
              "            + ' to learn more about interactive tables.';\n",
              "          element.innerHTML = '';\n",
              "          dataTable['output_type'] = 'display_data';\n",
              "          await google.colab.output.renderOutput(dataTable, element);\n",
              "          const docLink = document.createElement('div');\n",
              "          docLink.innerHTML = docLinkHtml;\n",
              "          element.appendChild(docLink);\n",
              "        }\n",
              "      </script>\n",
              "    </div>\n",
              "  </div>\n",
              "  "
            ]
          },
          "metadata": {},
          "execution_count": 2
        }
      ]
    },
    {
      "cell_type": "code",
      "source": [
        "print(data.columns)"
      ],
      "metadata": {
        "colab": {
          "base_uri": "https://localhost:8080/"
        },
        "id": "SUl_YtvoIbBW",
        "outputId": "3b586d5c-8a4e-4965-faec-79a2d59704a9"
      },
      "execution_count": 3,
      "outputs": [
        {
          "output_type": "stream",
          "name": "stdout",
          "text": [
            "Index(['pH', 'Temprature', 'Taste', 'Odor', 'Fat ', 'Turbidity', 'Colour',\n",
            "       'Grade'],\n",
            "      dtype='object')\n"
          ]
        }
      ]
    },
    {
      "cell_type": "code",
      "source": [
        "print(data.isna().sum())"
      ],
      "metadata": {
        "colab": {
          "base_uri": "https://localhost:8080/"
        },
        "id": "SV6ZdnwJIy4c",
        "outputId": "da8cffd4-259a-44ea-e499-6e730f318233"
      },
      "execution_count": 4,
      "outputs": [
        {
          "output_type": "stream",
          "name": "stdout",
          "text": [
            "pH            0\n",
            "Temprature    0\n",
            "Taste         0\n",
            "Odor          0\n",
            "Fat           0\n",
            "Turbidity     0\n",
            "Colour        0\n",
            "Grade         0\n",
            "dtype: int64\n"
          ]
        }
      ]
    },
    {
      "cell_type": "code",
      "source": [
        "print(data.loc[:, \"Taste\":\"Turbidity\"].apply(lambda x: x.unique()))"
      ],
      "metadata": {
        "colab": {
          "base_uri": "https://localhost:8080/"
        },
        "id": "A-1u3uJBI2k7",
        "outputId": "bd3979b1-8e91-4937-da5d-c8ad0d4a01ca"
      },
      "execution_count": 5,
      "outputs": [
        {
          "output_type": "stream",
          "name": "stdout",
          "text": [
            "   Taste  Odor  Fat   Turbidity\n",
            "0      1     0     1          0\n",
            "1      0     1     0          1\n"
          ]
        }
      ]
    },
    {
      "cell_type": "code",
      "source": [
        "data['Grade'].unique()"
      ],
      "metadata": {
        "colab": {
          "base_uri": "https://localhost:8080/"
        },
        "id": "wlFdAWA6_pWi",
        "outputId": "301133af-fb78-40ef-a0de-28508208852d"
      },
      "execution_count": 6,
      "outputs": [
        {
          "output_type": "execute_result",
          "data": {
            "text/plain": [
              "array(['high', 'low', 'medium'], dtype=object)"
            ]
          },
          "metadata": {},
          "execution_count": 6
        }
      ]
    },
    {
      "cell_type": "code",
      "source": [
        "data['Grade'] = data['Grade'].apply(lambda x: 1 if x=='high' else (2 if x=='medium' else 3))\n",
        "data"
      ],
      "metadata": {
        "colab": {
          "base_uri": "https://localhost:8080/",
          "height": 424
        },
        "id": "KK9vTsSgId-p",
        "outputId": "1d7770f7-ecd4-42c2-8a18-56d54e970ff2"
      },
      "execution_count": 7,
      "outputs": [
        {
          "output_type": "execute_result",
          "data": {
            "text/plain": [
              "       pH  Temprature  Taste  Odor  Fat   Turbidity  Colour  Grade\n",
              "0     6.6          35      1     0     1          0     254      1\n",
              "1     6.6          36      0     1     0          1     253      1\n",
              "2     8.5          70      1     1     1          1     246      3\n",
              "3     9.5          34      1     1     0          1     255      3\n",
              "4     6.6          37      0     0     0          0     255      2\n",
              "...   ...         ...    ...   ...   ...        ...     ...    ...\n",
              "1054  6.7          45      1     1     0          0     247      2\n",
              "1055  6.7          38      1     0     1          0     255      1\n",
              "1056  3.0          40      1     1     1          1     255      3\n",
              "1057  6.8          43      1     0     1          0     250      1\n",
              "1058  8.6          55      0     1     1          1     255      3\n",
              "\n",
              "[1059 rows x 8 columns]"
            ],
            "text/html": [
              "\n",
              "  <div id=\"df-c74a3e58-3eaa-489f-adf7-d4caf24db423\">\n",
              "    <div class=\"colab-df-container\">\n",
              "      <div>\n",
              "<style scoped>\n",
              "    .dataframe tbody tr th:only-of-type {\n",
              "        vertical-align: middle;\n",
              "    }\n",
              "\n",
              "    .dataframe tbody tr th {\n",
              "        vertical-align: top;\n",
              "    }\n",
              "\n",
              "    .dataframe thead th {\n",
              "        text-align: right;\n",
              "    }\n",
              "</style>\n",
              "<table border=\"1\" class=\"dataframe\">\n",
              "  <thead>\n",
              "    <tr style=\"text-align: right;\">\n",
              "      <th></th>\n",
              "      <th>pH</th>\n",
              "      <th>Temprature</th>\n",
              "      <th>Taste</th>\n",
              "      <th>Odor</th>\n",
              "      <th>Fat</th>\n",
              "      <th>Turbidity</th>\n",
              "      <th>Colour</th>\n",
              "      <th>Grade</th>\n",
              "    </tr>\n",
              "  </thead>\n",
              "  <tbody>\n",
              "    <tr>\n",
              "      <th>0</th>\n",
              "      <td>6.6</td>\n",
              "      <td>35</td>\n",
              "      <td>1</td>\n",
              "      <td>0</td>\n",
              "      <td>1</td>\n",
              "      <td>0</td>\n",
              "      <td>254</td>\n",
              "      <td>1</td>\n",
              "    </tr>\n",
              "    <tr>\n",
              "      <th>1</th>\n",
              "      <td>6.6</td>\n",
              "      <td>36</td>\n",
              "      <td>0</td>\n",
              "      <td>1</td>\n",
              "      <td>0</td>\n",
              "      <td>1</td>\n",
              "      <td>253</td>\n",
              "      <td>1</td>\n",
              "    </tr>\n",
              "    <tr>\n",
              "      <th>2</th>\n",
              "      <td>8.5</td>\n",
              "      <td>70</td>\n",
              "      <td>1</td>\n",
              "      <td>1</td>\n",
              "      <td>1</td>\n",
              "      <td>1</td>\n",
              "      <td>246</td>\n",
              "      <td>3</td>\n",
              "    </tr>\n",
              "    <tr>\n",
              "      <th>3</th>\n",
              "      <td>9.5</td>\n",
              "      <td>34</td>\n",
              "      <td>1</td>\n",
              "      <td>1</td>\n",
              "      <td>0</td>\n",
              "      <td>1</td>\n",
              "      <td>255</td>\n",
              "      <td>3</td>\n",
              "    </tr>\n",
              "    <tr>\n",
              "      <th>4</th>\n",
              "      <td>6.6</td>\n",
              "      <td>37</td>\n",
              "      <td>0</td>\n",
              "      <td>0</td>\n",
              "      <td>0</td>\n",
              "      <td>0</td>\n",
              "      <td>255</td>\n",
              "      <td>2</td>\n",
              "    </tr>\n",
              "    <tr>\n",
              "      <th>...</th>\n",
              "      <td>...</td>\n",
              "      <td>...</td>\n",
              "      <td>...</td>\n",
              "      <td>...</td>\n",
              "      <td>...</td>\n",
              "      <td>...</td>\n",
              "      <td>...</td>\n",
              "      <td>...</td>\n",
              "    </tr>\n",
              "    <tr>\n",
              "      <th>1054</th>\n",
              "      <td>6.7</td>\n",
              "      <td>45</td>\n",
              "      <td>1</td>\n",
              "      <td>1</td>\n",
              "      <td>0</td>\n",
              "      <td>0</td>\n",
              "      <td>247</td>\n",
              "      <td>2</td>\n",
              "    </tr>\n",
              "    <tr>\n",
              "      <th>1055</th>\n",
              "      <td>6.7</td>\n",
              "      <td>38</td>\n",
              "      <td>1</td>\n",
              "      <td>0</td>\n",
              "      <td>1</td>\n",
              "      <td>0</td>\n",
              "      <td>255</td>\n",
              "      <td>1</td>\n",
              "    </tr>\n",
              "    <tr>\n",
              "      <th>1056</th>\n",
              "      <td>3.0</td>\n",
              "      <td>40</td>\n",
              "      <td>1</td>\n",
              "      <td>1</td>\n",
              "      <td>1</td>\n",
              "      <td>1</td>\n",
              "      <td>255</td>\n",
              "      <td>3</td>\n",
              "    </tr>\n",
              "    <tr>\n",
              "      <th>1057</th>\n",
              "      <td>6.8</td>\n",
              "      <td>43</td>\n",
              "      <td>1</td>\n",
              "      <td>0</td>\n",
              "      <td>1</td>\n",
              "      <td>0</td>\n",
              "      <td>250</td>\n",
              "      <td>1</td>\n",
              "    </tr>\n",
              "    <tr>\n",
              "      <th>1058</th>\n",
              "      <td>8.6</td>\n",
              "      <td>55</td>\n",
              "      <td>0</td>\n",
              "      <td>1</td>\n",
              "      <td>1</td>\n",
              "      <td>1</td>\n",
              "      <td>255</td>\n",
              "      <td>3</td>\n",
              "    </tr>\n",
              "  </tbody>\n",
              "</table>\n",
              "<p>1059 rows × 8 columns</p>\n",
              "</div>\n",
              "      <button class=\"colab-df-convert\" onclick=\"convertToInteractive('df-c74a3e58-3eaa-489f-adf7-d4caf24db423')\"\n",
              "              title=\"Convert this dataframe to an interactive table.\"\n",
              "              style=\"display:none;\">\n",
              "        \n",
              "  <svg xmlns=\"http://www.w3.org/2000/svg\" height=\"24px\"viewBox=\"0 0 24 24\"\n",
              "       width=\"24px\">\n",
              "    <path d=\"M0 0h24v24H0V0z\" fill=\"none\"/>\n",
              "    <path d=\"M18.56 5.44l.94 2.06.94-2.06 2.06-.94-2.06-.94-.94-2.06-.94 2.06-2.06.94zm-11 1L8.5 8.5l.94-2.06 2.06-.94-2.06-.94L8.5 2.5l-.94 2.06-2.06.94zm10 10l.94 2.06.94-2.06 2.06-.94-2.06-.94-.94-2.06-.94 2.06-2.06.94z\"/><path d=\"M17.41 7.96l-1.37-1.37c-.4-.4-.92-.59-1.43-.59-.52 0-1.04.2-1.43.59L10.3 9.45l-7.72 7.72c-.78.78-.78 2.05 0 2.83L4 21.41c.39.39.9.59 1.41.59.51 0 1.02-.2 1.41-.59l7.78-7.78 2.81-2.81c.8-.78.8-2.07 0-2.86zM5.41 20L4 18.59l7.72-7.72 1.47 1.35L5.41 20z\"/>\n",
              "  </svg>\n",
              "      </button>\n",
              "      \n",
              "  <style>\n",
              "    .colab-df-container {\n",
              "      display:flex;\n",
              "      flex-wrap:wrap;\n",
              "      gap: 12px;\n",
              "    }\n",
              "\n",
              "    .colab-df-convert {\n",
              "      background-color: #E8F0FE;\n",
              "      border: none;\n",
              "      border-radius: 50%;\n",
              "      cursor: pointer;\n",
              "      display: none;\n",
              "      fill: #1967D2;\n",
              "      height: 32px;\n",
              "      padding: 0 0 0 0;\n",
              "      width: 32px;\n",
              "    }\n",
              "\n",
              "    .colab-df-convert:hover {\n",
              "      background-color: #E2EBFA;\n",
              "      box-shadow: 0px 1px 2px rgba(60, 64, 67, 0.3), 0px 1px 3px 1px rgba(60, 64, 67, 0.15);\n",
              "      fill: #174EA6;\n",
              "    }\n",
              "\n",
              "    [theme=dark] .colab-df-convert {\n",
              "      background-color: #3B4455;\n",
              "      fill: #D2E3FC;\n",
              "    }\n",
              "\n",
              "    [theme=dark] .colab-df-convert:hover {\n",
              "      background-color: #434B5C;\n",
              "      box-shadow: 0px 1px 3px 1px rgba(0, 0, 0, 0.15);\n",
              "      filter: drop-shadow(0px 1px 2px rgba(0, 0, 0, 0.3));\n",
              "      fill: #FFFFFF;\n",
              "    }\n",
              "  </style>\n",
              "\n",
              "      <script>\n",
              "        const buttonEl =\n",
              "          document.querySelector('#df-c74a3e58-3eaa-489f-adf7-d4caf24db423 button.colab-df-convert');\n",
              "        buttonEl.style.display =\n",
              "          google.colab.kernel.accessAllowed ? 'block' : 'none';\n",
              "\n",
              "        async function convertToInteractive(key) {\n",
              "          const element = document.querySelector('#df-c74a3e58-3eaa-489f-adf7-d4caf24db423');\n",
              "          const dataTable =\n",
              "            await google.colab.kernel.invokeFunction('convertToInteractive',\n",
              "                                                     [key], {});\n",
              "          if (!dataTable) return;\n",
              "\n",
              "          const docLinkHtml = 'Like what you see? Visit the ' +\n",
              "            '<a target=\"_blank\" href=https://colab.research.google.com/notebooks/data_table.ipynb>data table notebook</a>'\n",
              "            + ' to learn more about interactive tables.';\n",
              "          element.innerHTML = '';\n",
              "          dataTable['output_type'] = 'display_data';\n",
              "          await google.colab.output.renderOutput(dataTable, element);\n",
              "          const docLink = document.createElement('div');\n",
              "          docLink.innerHTML = docLinkHtml;\n",
              "          element.appendChild(docLink);\n",
              "        }\n",
              "      </script>\n",
              "    </div>\n",
              "  </div>\n",
              "  "
            ]
          },
          "metadata": {},
          "execution_count": 7
        }
      ]
    },
    {
      "cell_type": "code",
      "source": [
        "print(data.dtypes)"
      ],
      "metadata": {
        "colab": {
          "base_uri": "https://localhost:8080/"
        },
        "id": "q1VYcPWWJzl6",
        "outputId": "6b0aeaa9-9b6d-4fa5-de23-58b5ce9feb58"
      },
      "execution_count": 8,
      "outputs": [
        {
          "output_type": "stream",
          "name": "stdout",
          "text": [
            "pH            float64\n",
            "Temprature      int64\n",
            "Taste           int64\n",
            "Odor            int64\n",
            "Fat             int64\n",
            "Turbidity       int64\n",
            "Colour          int64\n",
            "Grade           int64\n",
            "dtype: object\n"
          ]
        }
      ]
    },
    {
      "cell_type": "code",
      "source": [
        "def data_classfy(data):\n",
        "    data_classification_list = []\n",
        "\n",
        "    for c in sorted(data[\"Grade\"].unique(), reverse=True):\n",
        "        data_classification_list.append(data[data[\"Grade\"] == c])\n",
        "\n",
        "    return data_classification_list"
      ],
      "metadata": {
        "id": "tlCf0Jy7L-np"
      },
      "execution_count": 9,
      "outputs": []
    },
    {
      "cell_type": "code",
      "source": [
        "data_classification_list = data_classfy(data)\n",
        "\n",
        "for data_part in data_classification_list:\n",
        "    print(data_part.head())\n",
        "    print(f'size: {data_part.shape}')\n",
        "    print()"
      ],
      "metadata": {
        "colab": {
          "base_uri": "https://localhost:8080/"
        },
        "id": "86atOFMPJH6b",
        "outputId": "f03ad7af-8b09-472b-b170-1ee26fc5bc99"
      },
      "execution_count": 10,
      "outputs": [
        {
          "output_type": "stream",
          "name": "stdout",
          "text": [
            "    pH  Temprature  Taste  Odor  Fat   Turbidity  Colour  Grade\n",
            "2  8.5          70      1     1     1          1     246      3\n",
            "3  9.5          34      1     1     0          1     255      3\n",
            "6  5.5          45      1     0     1          1     250      3\n",
            "7  4.5          60      0     1     1          1     250      3\n",
            "8  8.1          66      1     0     1          1     255      3\n",
            "size: (429, 8)\n",
            "\n",
            "     pH  Temprature  Taste  Odor  Fat   Turbidity  Colour  Grade\n",
            "4   6.6          37      0     0     0          0     255      2\n",
            "9   6.7          45      1     1     0          0     247      2\n",
            "10  6.7          45      1     1     1          0     245      2\n",
            "15  6.5          38      1     0     0          0     255      2\n",
            "19  6.8          40      1     0     1          0     245      2\n",
            "size: (374, 8)\n",
            "\n",
            "     pH  Temprature  Taste  Odor  Fat   Turbidity  Colour  Grade\n",
            "0   6.6          35      1     0     1          0     254      1\n",
            "1   6.6          36      0     1     0          1     253      1\n",
            "5   6.6          37      1     1     1          1     255      1\n",
            "14  6.8          45      0     1     1          1     255      1\n",
            "20  6.6          45      0     1     1          1     250      1\n",
            "size: (256, 8)\n",
            "\n"
          ]
        }
      ]
    },
    {
      "cell_type": "code",
      "source": [
        "# 범주형 data one-hot encoding\n",
        "data1 = pd.get_dummies(data_classification_list[2].loc[:, data_classification_list[2].columns[:7]], columns=data_classification_list[2].columns[2:6], dtype=\"int64\")\n",
        "\n",
        "print(data1)"
      ],
      "metadata": {
        "colab": {
          "base_uri": "https://localhost:8080/"
        },
        "id": "PYPgwoN0JNnD",
        "outputId": "bc8bfbd8-ef02-4f0a-82db-56634c45aa0e"
      },
      "execution_count": 12,
      "outputs": [
        {
          "output_type": "stream",
          "name": "stdout",
          "text": [
            "       pH  Temprature  Colour  Taste_0  Taste_1  Odor_0  Odor_1  Fat _0  \\\n",
            "0     6.6          35     254        0        1       1       0       0   \n",
            "1     6.6          36     253        1        0       0       1       1   \n",
            "5     6.6          37     255        0        1       0       1       0   \n",
            "14    6.8          45     255        1        0       0       1       0   \n",
            "20    6.6          45     250        1        0       0       1       0   \n",
            "...   ...         ...     ...      ...      ...     ...     ...     ...   \n",
            "1043  6.8          40     255        0        1       0       1       0   \n",
            "1047  6.8          45     245        0        1       0       1       0   \n",
            "1050  6.6          37     255        0        1       0       1       0   \n",
            "1055  6.7          38     255        0        1       1       0       0   \n",
            "1057  6.8          43     250        0        1       1       0       0   \n",
            "\n",
            "      Fat _1  Turbidity_0  Turbidity_1  \n",
            "0          1            1            0  \n",
            "1          0            0            1  \n",
            "5          1            0            1  \n",
            "14         1            0            1  \n",
            "20         1            0            1  \n",
            "...      ...          ...          ...  \n",
            "1043       1            0            1  \n",
            "1047       1            1            0  \n",
            "1050       1            0            1  \n",
            "1055       1            1            0  \n",
            "1057       1            1            0  \n",
            "\n",
            "[256 rows x 11 columns]\n"
          ]
        }
      ]
    },
    {
      "cell_type": "code",
      "source": [
        "# max-min 정규화\n",
        "from sklearn.preprocessing import MinMaxScaler\n",
        "\n",
        "data1 = pd.DataFrame(MinMaxScaler().fit_transform(data1), index=data1.index, columns=data1.columns)\n",
        "\n",
        "print(data1)"
      ],
      "metadata": {
        "colab": {
          "base_uri": "https://localhost:8080/"
        },
        "id": "KdnVjyilJQ6j",
        "outputId": "97fbb2ab-8bfe-4e21-b02b-19c2d9564c4d"
      },
      "execution_count": 13,
      "outputs": [
        {
          "output_type": "stream",
          "name": "stdout",
          "text": [
            "            pH  Temprature  Colour  Taste_0  Taste_1  Odor_0  Odor_1  Fat _0  \\\n",
            "0     0.333333         0.0     0.9      0.0      1.0     1.0     0.0     0.0   \n",
            "1     0.333333         0.1     0.8      1.0      0.0     0.0     1.0     1.0   \n",
            "5     0.333333         0.2     1.0      0.0      1.0     0.0     1.0     0.0   \n",
            "14    1.000000         1.0     1.0      1.0      0.0     0.0     1.0     0.0   \n",
            "20    0.333333         1.0     0.5      1.0      0.0     0.0     1.0     0.0   \n",
            "...        ...         ...     ...      ...      ...     ...     ...     ...   \n",
            "1043  1.000000         0.5     1.0      0.0      1.0     0.0     1.0     0.0   \n",
            "1047  1.000000         1.0     0.0      0.0      1.0     0.0     1.0     0.0   \n",
            "1050  0.333333         0.2     1.0      0.0      1.0     0.0     1.0     0.0   \n",
            "1055  0.666667         0.3     1.0      0.0      1.0     1.0     0.0     0.0   \n",
            "1057  1.000000         0.8     0.5      0.0      1.0     1.0     0.0     0.0   \n",
            "\n",
            "      Fat _1  Turbidity_0  Turbidity_1  \n",
            "0        1.0          1.0          0.0  \n",
            "1        0.0          0.0          1.0  \n",
            "5        1.0          0.0          1.0  \n",
            "14       1.0          0.0          1.0  \n",
            "20       1.0          0.0          1.0  \n",
            "...      ...          ...          ...  \n",
            "1043     1.0          0.0          1.0  \n",
            "1047     1.0          1.0          0.0  \n",
            "1050     1.0          0.0          1.0  \n",
            "1055     1.0          1.0          0.0  \n",
            "1057     1.0          1.0          0.0  \n",
            "\n",
            "[256 rows x 11 columns]\n"
          ]
        }
      ]
    },
    {
      "cell_type": "code",
      "source": [
        "def part_outlier_search(x):\n",
        "    iqr = x.quantile(0.75) - x.quantile(0.25)\n",
        "\n",
        "    return x[(x < x.quantile(0.25) - 1.5 * iqr) | (x > x.quantile(0.75) + 1.5 * iqr)].index"
      ],
      "metadata": {
        "id": "DyJEqKHTJ0MU"
      },
      "execution_count": 17,
      "outputs": []
    },
    {
      "cell_type": "code",
      "source": [
        "def outlier_search(data):\n",
        "    return data.drop(data.columns[2:6], axis=1).drop(data.columns[7], axis=1).apply(part_outlier_search)"
      ],
      "metadata": {
        "id": "Es0xzQUnJ0PT"
      },
      "execution_count": 18,
      "outputs": []
    },
    {
      "cell_type": "code",
      "source": [
        "part_data_outlier_list = []\n",
        "\n",
        "for part_data in data_classification_list:\n",
        "    part_data_outlier_list.append((part_data[\"Grade\"].unique(), outlier_search(part_data)))"
      ],
      "metadata": {
        "id": "KTC4jMW0J0R0"
      },
      "execution_count": 19,
      "outputs": []
    },
    {
      "cell_type": "code",
      "source": [
        "# data 유사도 확인\n",
        "from sklearn.metrics.pairwise import cosine_similarity\n",
        "\n",
        "temp = pd.DataFrame(cosine_similarity(data1), index=data1.index, columns=data1.index).drop(part_data_outlier_list[2][1][\"Temprature\"], axis=1)\n",
        "temp = temp.drop(temp.columns, axis=0)\n",
        "\n",
        "print(temp)"
      ],
      "metadata": {
        "colab": {
          "base_uri": "https://localhost:8080/"
        },
        "id": "v6pY3k2fJ4SL",
        "outputId": "7bcd1402-bfee-48fe-8f08-5f97dd07335b"
      },
      "execution_count": 22,
      "outputs": [
        {
          "output_type": "stream",
          "name": "stdout",
          "text": [
            "Empty DataFrame\n",
            "Columns: [0, 1, 5, 14, 20, 23, 25, 29, 32, 35, 39, 43, 47, 50, 61, 66, 72, 75, 77, 81, 85, 89, 93, 98, 105, 109, 111, 114, 116, 123, 125, 128, 131, 133, 137, 141, 145, 149, 154, 161, 167, 171, 175, 179, 182, 193, 198, 205, 216, 221, 227, 230, 232, 236, 240, 245, 247, 250, 252, 259, 261, 264, 267, 269, 273, 277, 282, 289, 295, 299, 303, 307, 310, 321, 326, 333, 344, 349, 355, 358, 360, 364, 368, 373, 375, 378, 380, 386, 392, 395, 397, 401, 405, 409, 413, 418, 425, 429, 431, 434, ...]\n",
            "Index: []\n",
            "\n",
            "[0 rows x 256 columns]\n"
          ]
        }
      ]
    },
    {
      "cell_type": "code",
      "source": [
        "# 이상치 data와 가장 유사한 data의 index 확인\n",
        "def a(part_data):\n",
        "    return part_data[part_data == part_data.max()].index\n",
        "\n",
        "print(temp.T.apply(a).T)"
      ],
      "metadata": {
        "colab": {
          "base_uri": "https://localhost:8080/"
        },
        "id": "wbO_Iu3MJ_wy",
        "outputId": "c8afd48a-85ba-431e-92e3-b3478c77be27"
      },
      "execution_count": 28,
      "outputs": [
        {
          "output_type": "stream",
          "name": "stdout",
          "text": [
            "      Temprature\n",
            "0     Temprature\n",
            "1     Temprature\n",
            "2     Temprature\n",
            "3     Temprature\n",
            "4     Temprature\n",
            "...          ...\n",
            "1054  Temprature\n",
            "1055  Temprature\n",
            "1056  Temprature\n",
            "1057  Temprature\n",
            "1058  Temprature\n",
            "\n",
            "[1059 rows x 1 columns]\n"
          ]
        }
      ]
    },
    {
      "cell_type": "code",
      "source": [
        "temp = pd.DataFrame(data.loc[part_data_outlier_list[2][1][\"Temprature\"], \"Temprature\"].map(lambda x: data.loc[8, \"Temprature\"]))\n",
        "\n",
        "temp = pd.concat([pd.DataFrame(data.loc[:, \"Temprature\"].drop(temp.index, axis=0)), temp], axis=0).sort_index(axis=0)\n",
        "\n",
        "data2 = pd.concat([data.drop(data.columns[1:], axis=1), temp, data.drop(data.columns[:2], axis=1)], axis=1)"
      ],
      "metadata": {
        "id": "DXceiwY3KEiT"
      },
      "execution_count": 29,
      "outputs": []
    },
    {
      "cell_type": "code",
      "source": [
        "g_data = pd.get_dummies(data, columns=data.columns[2:6], dtype=\"int64\")\n",
        "\n",
        "print(g_data)"
      ],
      "metadata": {
        "colab": {
          "base_uri": "https://localhost:8080/"
        },
        "id": "WRTIlhEMKzOb",
        "outputId": "dc3db403-9f62-42a9-b6d1-dcb9930dc681"
      },
      "execution_count": 36,
      "outputs": [
        {
          "output_type": "stream",
          "name": "stdout",
          "text": [
            "       pH  Temprature  Colour  Grade  Taste_0  Taste_1  Odor_0  Odor_1  \\\n",
            "0     6.6          35     254      1        0        1       1       0   \n",
            "1     6.6          36     253      1        1        0       0       1   \n",
            "2     8.5          70     246      3        0        1       0       1   \n",
            "3     9.5          34     255      3        0        1       0       1   \n",
            "4     6.6          37     255      2        1        0       1       0   \n",
            "...   ...         ...     ...    ...      ...      ...     ...     ...   \n",
            "1054  6.7          45     247      2        0        1       0       1   \n",
            "1055  6.7          38     255      1        0        1       1       0   \n",
            "1056  3.0          40     255      3        0        1       0       1   \n",
            "1057  6.8          43     250      1        0        1       1       0   \n",
            "1058  8.6          55     255      3        1        0       0       1   \n",
            "\n",
            "      Fat _0  Fat _1  Turbidity_0  Turbidity_1  \n",
            "0          0       1            1            0  \n",
            "1          1       0            0            1  \n",
            "2          0       1            0            1  \n",
            "3          1       0            0            1  \n",
            "4          1       0            1            0  \n",
            "...      ...     ...          ...          ...  \n",
            "1054       1       0            1            0  \n",
            "1055       0       1            1            0  \n",
            "1056       0       1            0            1  \n",
            "1057       0       1            1            0  \n",
            "1058       0       1            0            1  \n",
            "\n",
            "[1059 rows x 12 columns]\n"
          ]
        }
      ]
    },
    {
      "cell_type": "code",
      "source": [
        "# 훈련 data와 test data 분리\n",
        "from sklearn.model_selection import train_test_split\n",
        "\n",
        "x_train, x_test, y_train, y_test = train_test_split(data.drop(\"Grade\", axis=1), data[\"Grade\"], test_size=0.3)"
      ],
      "metadata": {
        "id": "kamcVjlMKEqT"
      },
      "execution_count": 37,
      "outputs": []
    },
    {
      "cell_type": "code",
      "source": [
        "# z-점수 표준화\n",
        "from sklearn.preprocessing import StandardScaler\n",
        "\n",
        "ss = StandardScaler()\n",
        "x_train = pd.DataFrame(ss.fit_transform(x_train), columns=x_train.columns, index=x_train.index)\n",
        "\n",
        "x_test = pd.DataFrame(ss.transform(x_test), columns=x_test.columns, index=x_test.index)\n",
        "\n",
        "g_data_d = pd.DataFrame(ss.fit_transform(g_data.drop(\"Grade\", axis=1)), columns=g_data.columns.drop(\"Grade\"), index=g_data.index)"
      ],
      "metadata": {
        "id": "bUCdk7V0KvLj"
      },
      "execution_count": 38,
      "outputs": []
    },
    {
      "cell_type": "code",
      "source": [
        "# Gaussian naive bayes model\n",
        "from sklearn.naive_bayes import GaussianNB\n",
        "\n",
        "model = GaussianNB()\n",
        "\n",
        "train_hat = model.fit(x_train, y_train).predict(x_train)\n",
        "\n",
        "test_hat = model.predict(x_test)"
      ],
      "metadata": {
        "id": "ToZ3OSNaLP3D"
      },
      "execution_count": 42,
      "outputs": []
    },
    {
      "cell_type": "code",
      "source": [
        "# train에 대한 정확도, 재현율, f1-score 확인\n",
        "from sklearn.metrics import classification_report\n",
        "\n",
        "print(\"<train data>\")\n",
        "print(classification_report(y_train, train_hat))"
      ],
      "metadata": {
        "colab": {
          "base_uri": "https://localhost:8080/"
        },
        "id": "J0fI8gykKvQr",
        "outputId": "1ef8202c-4f11-4aed-d32a-0b00aa6891ee"
      },
      "execution_count": 43,
      "outputs": [
        {
          "output_type": "stream",
          "name": "stdout",
          "text": [
            "<train data>\n",
            "              precision    recall  f1-score   support\n",
            "\n",
            "           1       0.82      0.99      0.90       176\n",
            "           2       0.96      0.91      0.93       264\n",
            "           3       1.00      0.91      0.95       301\n",
            "\n",
            "    accuracy                           0.93       741\n",
            "   macro avg       0.92      0.94      0.93       741\n",
            "weighted avg       0.94      0.93      0.93       741\n",
            "\n"
          ]
        }
      ]
    },
    {
      "cell_type": "code",
      "source": [
        "# test에 대한 정확도, 재현율, f1-score 확인\n",
        "print(\"<test data>\")\n",
        "print(classification_report(y_test, test_hat))"
      ],
      "metadata": {
        "colab": {
          "base_uri": "https://localhost:8080/"
        },
        "id": "ifCqnKzFKvSy",
        "outputId": "5c3c64e4-ca52-4ac2-d885-7aee5ff4b86b"
      },
      "execution_count": 44,
      "outputs": [
        {
          "output_type": "stream",
          "name": "stdout",
          "text": [
            "<test data>\n",
            "              precision    recall  f1-score   support\n",
            "\n",
            "           1       0.93      0.99      0.96        80\n",
            "           2       0.97      0.96      0.97       110\n",
            "           3       1.00      0.97      0.98       128\n",
            "\n",
            "    accuracy                           0.97       318\n",
            "   macro avg       0.97      0.97      0.97       318\n",
            "weighted avg       0.97      0.97      0.97       318\n",
            "\n"
          ]
        }
      ]
    },
    {
      "cell_type": "code",
      "source": [
        "# 교차 검증\n",
        "from sklearn.model_selection import cross_val_score\n",
        "\n",
        "print(f\"train mean accuracy: {round(cross_val_score(model, x_train, y_train, cv=39).mean(), 2)}\")\n",
        "print(f\"test mean accuracy: {round(cross_val_score(model, x_test, y_test, cv=39).mean(), 2)}\")"
      ],
      "metadata": {
        "colab": {
          "base_uri": "https://localhost:8080/"
        },
        "id": "l5OTEYXqKvU6",
        "outputId": "455f778b-6982-41f3-8324-fdba95f07fad"
      },
      "execution_count": 45,
      "outputs": [
        {
          "output_type": "stream",
          "name": "stdout",
          "text": [
            "train mean accuracy: 0.92\n",
            "test mean accuracy: 0.88\n"
          ]
        }
      ]
    },
    {
      "cell_type": "code",
      "source": [
        "# 다항 logistic 회귀 model\n",
        "from sklearn.linear_model import LogisticRegression\n",
        "\n",
        "model = LogisticRegression(multi_class=\"multinomial\", solver=\"lbfgs\")\n",
        "\n",
        "train_hat = model.fit(x_train, y_train).predict(x_train)\n",
        "\n",
        "test_hat = model.predict(x_test)"
      ],
      "metadata": {
        "id": "8VE0OD_BL0SD"
      },
      "execution_count": 48,
      "outputs": []
    },
    {
      "cell_type": "code",
      "source": [
        "# 교차 검증\n",
        "print(f\"train mean accuracy: {round(cross_val_score(model, x_train, y_train, cv=39).mean(), 2)}\")\n",
        "print(f\"test mean accuracy: {round(cross_val_score(model, x_test, y_test, cv=39).mean(), 2)}\")"
      ],
      "metadata": {
        "colab": {
          "base_uri": "https://localhost:8080/"
        },
        "id": "VrqPVSvIL0UZ",
        "outputId": "a719a827-8405-438a-8e39-4b078db74be0"
      },
      "execution_count": 49,
      "outputs": [
        {
          "output_type": "stream",
          "name": "stdout",
          "text": [
            "train mean accuracy: 0.84\n",
            "test mean accuracy: 0.86\n"
          ]
        }
      ]
    }
  ]
}